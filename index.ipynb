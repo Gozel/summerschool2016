{
 "cells": [
  {
   "cell_type": "markdown",
   "metadata": {},
   "source": [
    "# Computational Interaction 2016\n",
    "\n",
    "## Machine learning in HCI\n",
    "\n",
    "### Purpose\n",
    "The purpose of today is to get hands on experience in applying machine learning to HCI. The focus is on specific, practical examples rather than theory.\n",
    "\n",
    "### Outline\n",
    "\n",
    "We will cover **three topics**. \n",
    "* Each topic is a condensed, applied exploration of machine learning in an HCI topic. \n",
    "* Each topic lasts **two hours**. \n",
    "* Each two hour block has the format:\n",
    "    * *20 minutes* lecture introduction\n",
    "    * *30 minutes* \"getting to grips\" practical\n",
    "    * *20 minutes* follow up lecture\n",
    "    * *50 minutes* **challenge** practical\n",
    "\n",
    "\n",
    "The notebooks for each of the three summer school topics are listed below:\n",
    "\n",
    "1. [Classifiying Audio Streams](classifying_audio_streams/audio_1.ipynb) This topic explores supervised classification of audio data, and how to evaluate classifiers without deceiving yourself.\n",
    "\n",
    "1. [Unsupervised Image Learning](unsupervised_image_learning/manifold_1.ipynb) This topic will explore how high-dimensional sensor input can be organised with unsupervised learning to build primitives for  interaction.\n",
    "\n",
    "1. [Inferring Typing Behaviour](inferring_typing_behaviour/inferring_1.ipynb) This exercise looks at building probabilistic Bayesian models of typing behaviour, and inferring parameters using Markov Chain Monte Carlo.\n",
    "\n"
   ]
  },
  {
   "cell_type": "code",
   "execution_count": null,
   "metadata": {
    "collapsed": true
   },
   "outputs": [],
   "source": []
  }
 ],
 "metadata": {
  "kernelspec": {
   "display_name": "Python 2",
   "language": "python",
   "name": "python2"
  },
  "language_info": {
   "codemirror_mode": {
    "name": "ipython",
    "version": 2
   },
   "file_extension": ".py",
   "mimetype": "text/x-python",
   "name": "python",
   "nbconvert_exporter": "python",
   "pygments_lexer": "ipython2",
   "version": "2.7.11"
  }
 },
 "nbformat": 4,
 "nbformat_minor": 0
}
